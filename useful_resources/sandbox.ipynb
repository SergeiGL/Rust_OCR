{
 "cells": [
  {
   "cell_type": "markdown",
   "metadata": {},
   "source": [
    "# Save IMG"
   ]
  },
  {
   "cell_type": "code",
   "execution_count": null,
   "metadata": {},
   "outputs": [],
   "source": [
    "QUANTILE = 0.4\n",
    "\n",
    "postfix = f\"_{str(QUANTILE).replace(\".\", \"\")}\""
   ]
  },
  {
   "cell_type": "code",
   "execution_count": null,
   "metadata": {},
   "outputs": [],
   "source": [
    "import pandas as pd\n",
    "import os\n",
    "\n",
    "base_dir = 'data'\n",
    "\n",
    "data = pd.read_csv(\"train.csv\")\n",
    "\n",
    "file_names = {}\n",
    "\n",
    "quantiles = data.iloc[:, 1:].apply(lambda row: row[row != 0].quantile(QUANTILE), axis=1)\n",
    "\n",
    "mask = data.iloc[:, 1:].gt(quantiles, axis=0) & (data.iloc[:, 1:] != 0)\n",
    "\n",
    "data.iloc[:, 1:] = mask.astype(int)\n",
    "\n",
    "for i in range(10):\n",
    "    os.makedirs(os.path.join(base_dir, str(i)), exist_ok=True)\n",
    "\n",
    "def process_row(row):    \n",
    "    n_of_1 = row.drop('label').values.sum()\n",
    "    if n_of_1 < 35 or n_of_1 > 100:\n",
    "        return\n",
    "    \n",
    "    label = row['label']\n",
    "\n",
    "    data = ''.join(map(str, row.drop('label').values))\n",
    "    folder_path = os.path.join(base_dir, str(label))\n",
    "\n",
    "    if label in file_names:\n",
    "        file_names[label] += 1\n",
    "    else:\n",
    "        file_names.update({label: 0})\n",
    "    \n",
    "    file_name = os.path.join(folder_path, f\"{file_names[label]}{postfix}.txt\")\n",
    "    \n",
    "    with open(file_name, 'w') as file:\n",
    "        file.write(data)\n",
    "\n",
    "data.apply(process_row, axis=1)"
   ]
  },
  {
   "cell_type": "markdown",
   "metadata": {},
   "source": [
    "# Load IMG"
   ]
  },
  {
   "cell_type": "code",
   "execution_count": null,
   "metadata": {},
   "outputs": [],
   "source": [
    "import numpy as np\n",
    "from matplotlib import pyplot as plt\n",
    "\n",
    "number = 7\n",
    "\n",
    "for i in range(0, 20):\n",
    "    path_to_img = f\"data/{number}/{i}{postfix}.txt\"\n",
    "    with open(path_to_img, 'r') as file:\n",
    "        file_content = file.readline()\n",
    "\n",
    "    data_list = [int(char) for char in file_content.strip()]\n",
    "    data_array = np.array(data_list).reshape(28, 28)\n",
    "\n",
    "    plt.imshow(data_array, cmap='gray_r', interpolation='nearest')\n",
    "    plt.axis('off')\n",
    "    plt.show()"
   ]
  },
  {
   "cell_type": "markdown",
   "metadata": {},
   "source": [
    "# Pixel Distribution"
   ]
  },
  {
   "cell_type": "code",
   "execution_count": null,
   "metadata": {},
   "outputs": [],
   "source": [
    "import plotly.express as px\n",
    "import pandas as pd\n",
    "\n",
    "data = pd.read_csv(\"train.csv\")\n",
    "\n",
    "pixel_values = data.drop(columns=['label']).values.flatten()\n",
    "non_zero_pixel_values = pixel_values[pixel_values != 0]\n",
    "\n",
    "fig = px.histogram(\n",
    "    non_zero_pixel_values,\n",
    "    nbins=256,\n",
    "    range_x=[0, 255],\n",
    "    title='Distribution of Pixel Values Across All Columns',\n",
    "    labels={'value': 'Pixel Value', 'count': 'Frequency'},\n",
    "    opacity=0.7\n",
    ")\n",
    "\n",
    "fig.update_layout(\n",
    "    xaxis_title='Pixel Value',\n",
    "    yaxis_title='Frequency',\n",
    "    bargap=0.1\n",
    ")\n",
    "\n",
    "fig.show()"
   ]
  },
  {
   "cell_type": "code",
   "execution_count": null,
   "metadata": {},
   "outputs": [],
   "source": []
  }
 ],
 "metadata": {
  "kernelspec": {
   "display_name": "base",
   "language": "python",
   "name": "python3"
  },
  "language_info": {
   "codemirror_mode": {
    "name": "ipython",
    "version": 3
   },
   "file_extension": ".py",
   "mimetype": "text/x-python",
   "name": "python",
   "nbconvert_exporter": "python",
   "pygments_lexer": "ipython3",
   "version": "3.12.3"
  }
 },
 "nbformat": 4,
 "nbformat_minor": 2
}
